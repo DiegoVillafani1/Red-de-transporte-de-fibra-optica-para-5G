{
  "nbformat": 4,
  "nbformat_minor": 0,
  "metadata": {
    "kernelspec": {
      "display_name": "Python 3",
      "language": "python",
      "name": "python3"
    },
    "language_info": {
      "codemirror_mode": {
        "name": "ipython",
        "version": 3
      },
      "file_extension": ".py",
      "mimetype": "text/x-python",
      "name": "python",
      "nbconvert_exporter": "python",
      "pygments_lexer": "ipython3",
      "version": "3.7.7"
    },
    "colab": {
      "name": "5G_clase_11.ipynb",
      "provenance": [],
      "include_colab_link": true
    }
  },
  "cells": [
    {
      "cell_type": "markdown",
      "metadata": {
        "id": "view-in-github",
        "colab_type": "text"
      },
      "source": [
        "<a href=\"https://colab.research.google.com/github/DiegoVillafani1/Red-de-transporte-de-fibra-optica-para-5G/blob/main/5G_clase_11.ipynb\" target=\"_parent\"><img src=\"https://colab.research.google.com/assets/colab-badge.svg\" alt=\"Open In Colab\"/></a>"
      ]
    },
    {
      "cell_type": "markdown",
      "metadata": {
        "id": "7PU9aWqa28B2"
      },
      "source": [
        "##############################################################################################\n",
        "#                              Conceptos y repaso de un systema de fibra optica 1.2                      #\n",
        "##############################################################################################\n",
        "\n",
        "\n",
        "Created on Sun Oct  4 15:31:28 2020\n",
        "\n",
        "@author: Diego Villafani\n",
        "\n",
        "Simulación de un Laser. Potencia y Espectro Optico.\n",
        "\n",
        "\n",
        "#En este programa podremos simular el Laser sintonizable que observamos en el Laboratorio.\n",
        "#EL MODELO ES MUY SIMPLE Y NO ESTA DESTINADO A DETALLAR EL FUNCIONAMIENTO REAL DE UN LASER, SOLO COMO EJEMPLO.\n"
      ]
    },
    {
      "cell_type": "code",
      "metadata": {
        "id": "23mHU0y020C9"
      },
      "source": [
        "#Primero Importamos las librerias necesarias\n",
        "import numpy as np\n",
        "import matplotlib.pyplot as plt\n"
      ],
      "execution_count": 7,
      "outputs": []
    },
    {
      "cell_type": "code",
      "metadata": {
        "id": "7rR01ank20DA",
        "outputId": "9abf15f5-8e2f-4978-d117-38f38124027b",
        "colab": {
          "base_uri": "https://localhost:8080/",
          "height": 279
        }
      },
      "source": [
        "#El Laser simulado estara en el espectro electromagnetico al rededor de 1550nm\n",
        "\n",
        "Longitud_de_onda_del_laser_central=1550e-9 #Longitud de Onda en metros e-9 =nm\n",
        "\n",
        "\n",
        "###################### Aqui El alumno puede cambiar la Potencia del Laser  #################################\n",
        "Potencia_dBm=0 #Potencia en dBm\n",
        "\n",
        "###################### Aqui El alumno puede cambiar la frequencia del laser respecto a 1550nm  #############\n",
        "Sintonizar_Laser=-0e9  #Sintonizar Laser respecto a 1550nm. Este valor esta en Hz.\n",
        "\n",
        "#Creando Los parametros para la simulacion \n",
        "\n",
        "Potencia_mw=10**(Potencia_dBm/20)   #Potencia en mW\n",
        "\n",
        "c  = 2.99792458e8                   #Velocidad de la luz\n",
        "\n",
        "Frequencia_del_laser=c/Longitud_de_onda_del_laser_central    #Frequencia del Laser en Hz\n",
        "\n",
        "frequencia_de_muestreo=16*50e9 #Span del OSA o rango de frequencias donde veremos la señal\n",
        "numero_de_muestras=2**20\n",
        "\n",
        "dt_samp=1/frequencia_de_muestreo #Delta del tiempo entre muestras\n",
        "\n",
        "Tiempo_total=dt_samp*numero_de_muestras #Tiempo Total\n",
        "\n",
        "Vector_tiempo=np.arange(0,(numero_de_muestras)*dt_samp,dt_samp) #Vector del Tiempo\n",
        "\n",
        "Vector_frequencia=Frequencia_del_laser+(1/Tiempo_total)*np.arange(-numero_de_muestras/2,numero_de_muestras/2,1) #Vector de la frequencia\n",
        "\n",
        "Vector_Longitud_de_onda=c/Vector_frequencia\n",
        "\n",
        "#Creando el laser simulado\n",
        "\n",
        "Laser_CW=Potencia_mw*np.ones(numero_de_muestras) #Potencia del laser en el tiempo CW= constant Wave\n",
        "\n",
        "#Phase noise\n",
        "varianza_de_fase = 2*np.pi*(100e3)*dt_samp \n",
        "fase_con_ruido=np.cumsum(np.sqrt(varianza_de_fase)*np.random.randn(numero_de_muestras))\n",
        "\n",
        "#Laser Simulado en el tiempo\n",
        "Laser=Laser_CW*np.exp(1j*2*np.pi*Sintonizar_Laser*Vector_tiempo+1j*fase_con_ruido)\n",
        "\n",
        "#Convirtiendo la señal del tiempo a frequencia con FFT\n",
        "\n",
        "Espectro=(np.abs(np.sqrt(dt_samp/numero_de_muestras)*np.fft.fft(Laser))**2)*(1/Tiempo_total)\n",
        "Espectro_fft=np.append(Espectro[int(numero_de_muestras/2):numero_de_muestras],Espectro[0:int(numero_de_muestras/2)])\n",
        "\n",
        "\n",
        "#Graficando\n",
        "plt.grid(True)\n",
        "#plt.plot(Vector_frequencia/1e12,10*np.log10(Espectro_fft))\n",
        "plt.plot(Vector_Longitud_de_onda*1e9,10*np.log10(Espectro_fft))\n",
        "plt.ylabel('Potencia [dBm]')\n",
        "plt.xlabel('Freq [THz]')\n",
        "plt.xlim(1546.5, 1553.5)\n",
        "plt.ylim(-130, 5)\n",
        "plt.show()\n",
        "\n",
        "\n",
        "\n",
        "\n"
      ],
      "execution_count": 18,
      "outputs": [
        {
          "output_type": "display_data",
          "data": {
            "image/png": "[encoded data removed]",
            "text/plain": [
              "<Figure size 432x288 with 1 Axes>"
            ]
          },
          "metadata": {
            "tags": [],
            "needs_background": "light"
          }
        }
      ]
    }
  ]
}