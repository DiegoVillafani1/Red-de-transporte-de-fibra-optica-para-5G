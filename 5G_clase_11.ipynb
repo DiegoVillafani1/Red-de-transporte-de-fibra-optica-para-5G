{
 "cells": [
  {
   "cell_type": "code",
   "execution_count": null,
   "metadata": {},
   "outputs": [],
   "source": [
    "# -*- coding: utf-8 -*-\n",
    "\"\"\"\n",
    "Created on Sun Oct  4 15:31:28 2020\n",
    "@author: Diego Villafani\n",
    "Simulación de un Laser. Potencia y Espectro Optico.\n",
    "\"\"\"\n",
    "\n",
    "#En este programa podremos simular el Laser sintonizable que observamos en el Laboratorio.\n",
    "#EL MODELO ES MUY SIMPLE Y NO ESTA DESTINADO A DETALLAR EL FUNCIONAMIENTO REAL DE UN LASER, SOLO COMO EJEMPLO.\n"
   ]
  },
  {
   "cell_type": "code",
   "execution_count": 2,
   "metadata": {},
   "outputs": [],
   "source": [
    "#Primero Importamos las librerias necesarias\n",
    "import numpy as np\n",
    "import matplotlib.pyplot as plt\n"
   ]
  },
  {
   "cell_type": "code",
   "execution_count": 8,
   "metadata": {},
   "outputs": [
    {
     "data": {
      "image/png": "[encoded data removed]",
      "text/plain": [
       "<Figure size 432x288 with 1 Axes>"
      ]
     },
     "metadata": {
      "needs_background": "light"
     },
     "output_type": "display_data"
    }
   ],
   "source": [
    "#El Laser simulado estara en el espectro electromagnetico al rededor de 1550nm\n",
    "Longitud_de_onda_del_laser_central=1550e-9 #Longitud de Onda en metros e-9 =nm\n",
    "\n",
    "\n",
    "\n",
    "###################### Aqui El alumno puede cambiar la Potencia del Laser  #################################\n",
    "Potencia_dBm= 0 #Potencia en dBm\n",
    "\n",
    "###################### Aqui El alumno puede cambiar la frequencia del laser respecto a 1550nm  #############\n",
    "Sintonizar_Laser=0e9  #Sintonizar Laser respecto a 1550nm\n",
    "\n",
    "#Creando Los parametros para la simulacion \n",
    "\n",
    "Potencia_mw=10**(Potencia_dBm/10)   #Potencia en mW\n",
    "\n",
    "c  = 2.99792458e8                   #Velocidad de la luz\n",
    "\n",
    "Frequencia_del_laser=c/Longitud_de_onda_del_laser_central    #Frequencia del Laser en Hz\n",
    "\n",
    "frequencia_de_muestreo=16*50e9 #Span del OSA o rango de frequencias donde veremos la señal\n",
    "numero_de_muestras=2**20\n",
    "\n",
    "dt_samp=1/frequencia_de_muestreo #Delta del tiempo entre muestras\n",
    "\n",
    "Tiempo_total=dt_samp*numero_de_muestras #Tiempo Total\n",
    "\n",
    "Vector_tiempo=np.arange(0,(numero_de_muestras)*dt_samp,dt_samp) #Vector del Tiempo\n",
    "\n",
    "Vector_frequencia=Frequencia_del_laser+(1/Tiempo_total)*np.arange(-numero_de_muestras/2,numero_de_muestras/2,1) #Vector de la frequencia\n",
    "\n",
    "Vector_Longitud_de_onda=c/Vector_frequencia\n",
    "\n",
    "#Creando el laser simulado\n",
    "\n",
    "Laser_CW=Potencia_mw*np.ones(numero_de_muestras) #Potencia del laser en el tiempo CW= constant Wave\n",
    "\n",
    "#Phase noise\n",
    "varianza_de_fase = 2*np.pi*(100e3)*dt_samp \n",
    "fase_con_ruido=np.cumsum(np.sqrt(varianza_de_fase)*np.random.randn(numero_de_muestras))\n",
    "\n",
    "#Laser Simulado en el tiempo\n",
    "Laser=Laser_CW*np.exp(1j*2*np.pi*Sintonizar_Laser*Vector_tiempo+1j*fase_con_ruido)\n",
    "\n",
    "#Convirtiendo la señal del tiempo a frequencia con FFT\n",
    "\n",
    "Espectro=(np.abs(np.sqrt(dt_samp/numero_de_muestras)*np.fft.fft(Laser))**2)*(1/Tiempo_total)\n",
    "Espectro_fft=np.append(Espectro[int(numero_de_muestras/2):numero_de_muestras],Espectro[0:int(numero_de_muestras/2)])\n",
    "\n",
    "\n",
    "#Graficando\n",
    "plt.grid(True)\n",
    "#plt.plot(Vector_frequencia/1e12,10*np.log10(Espectro_fft))\n",
    "plt.plot(Vector_Longitud_de_onda*1e9,10*np.log10(Espectro_fft))\n",
    "plt.ylabel('Potencia [dBm]')\n",
    "plt.xlabel('Freq [THz]')\n",
    "plt.savefig('plot.png', dpi=300)\n",
    "plt.show()\n",
    "\n",
    "\n",
    "\n",
    "\n"
   ]
  },
  {
   "cell_type": "code",
   "execution_count": null,
   "metadata": {},
   "outputs": [],
   "source": []
  },
  {
   "cell_type": "code",
   "execution_count": null,
   "metadata": {},
   "outputs": [],
   "source": []
  },
  {
   "cell_type": "code",
   "execution_count": null,
   "metadata": {},
   "outputs": [],
   "source": []
  },
  {
   "cell_type": "code",
   "execution_count": null,
   "metadata": {},
   "outputs": [],
   "source": []
  },
  {
   "cell_type": "code",
   "execution_count": null,
   "metadata": {},
   "outputs": [],
   "source": []
  },
  {
   "cell_type": "code",
   "execution_count": null,
   "metadata": {},
   "outputs": [],
   "source": []
  },
  {
   "cell_type": "code",
   "execution_count": null,
   "metadata": {},
   "outputs": [],
   "source": []
  }
 ],
 "metadata": {
  "kernelspec": {
   "display_name": "Python 3",
   "language": "python",
   "name": "python3"
  },
  "language_info": {
   "codemirror_mode": {
    "name": "ipython",
    "version": 3
   },
   "file_extension": ".py",
   "mimetype": "text/x-python",
   "name": "python",
   "nbconvert_exporter": "python",
   "pygments_lexer": "ipython3",
   "version": "3.7.7"
  }
 },
 "nbformat": 4,
 "nbformat_minor": 4
}
